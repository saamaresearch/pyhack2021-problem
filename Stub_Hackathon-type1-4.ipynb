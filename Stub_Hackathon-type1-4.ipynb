{
 "cells": [
  {
   "cell_type": "markdown",
   "id": "37619e45",
   "metadata": {},
   "source": [
    "### Write your Import statements in the cell below\n"
   ]
  },
  {
   "cell_type": "code",
   "execution_count": 61,
   "id": "67113059",
   "metadata": {},
   "outputs": [],
   "source": [
    "import requests\n",
    "import json\n",
    "from datetime import date, timedelta, datetime\n",
    "from dateutil import parser\n",
    "import sys"
   ]
  },
  {
   "cell_type": "markdown",
   "id": "f6952d8b",
   "metadata": {},
   "source": [
    "### Initialize Study Id, Domain Id, base_url in the cell below"
   ]
  },
  {
   "cell_type": "code",
   "execution_count": 31,
   "id": "57ec8f24",
   "metadata": {},
   "outputs": [],
   "source": [
    "study_id = 'pass the study_id here'\n",
    "ae_domain_id ='pass ae as domain here'\n",
    "cm_domain_id = 'pas cm as domain here'\n",
    "base_url = 'https://pyhack-dot-pharmanlp-177020.uc.r.appspot.com/api/1/'"
   ]
  },
  {
   "cell_type": "markdown",
   "id": "41d07d1b",
   "metadata": {},
   "source": [
    "### Initialize URLs to be called in the cell below"
   ]
  },
  {
   "cell_type": "code",
   "execution_count": 21,
   "id": "455c0fcc",
   "metadata": {},
   "outputs": [],
   "source": [
    "ae_subject_id_url = base_url + study_id+'/'+ae_domain_id+'/subject/list'\n",
    "cm_subject_id_url = base_url + study_id+'/'+ae_domain_id+'/subject/list'\n"
   ]
  },
  {
   "cell_type": "markdown",
   "id": "80cca0f4",
   "metadata": {},
   "source": [
    "### Make a request to the AE URL and fetch the result into a list"
   ]
  },
  {
   "cell_type": "code",
   "execution_count": 23,
   "id": "c14484a3",
   "metadata": {},
   "outputs": [],
   "source": [
    "try:\n",
    "    ae_response_data1 = \"Make a request to the ae_subject_id_url\"\n",
    "    ae_response_value1 = \"convert the response to json using json.loads function \"\n",
    "    ae_subject_ids = \"Fetch Subject_ids list alone from 'data' field in the response\"\n",
    "except:\n",
    "    sys.exit(\"Unable to get the values!\")\n"
   ]
  },
  {
   "cell_type": "markdown",
   "id": "f72e7ef6",
   "metadata": {},
   "source": [
    "### Make a request to CM URL and fetch the result into a list "
   ]
  },
  {
   "cell_type": "code",
   "execution_count": 27,
   "id": "504d3e59",
   "metadata": {},
   "outputs": [],
   "source": [
    "try:\n",
    "    cm_response_data1 = \"Make a request to the cm_subject_id_url\"\n",
    "    cm_response_value1 = \"convert the response to json using json.loads function \"\n",
    "    cm_subject_ids = \"Fetch Subject_ids list alone from 'data' field in the response\"\n",
    "except:\n",
    "    sys.exit(\"Unable to get the values!\")"
   ]
  },
  {
   "cell_type": "markdown",
   "id": "5a795de3",
   "metadata": {},
   "source": [
    "### Iterate through AE Subject ID list and fetch data for each subject using the second URL "
   ]
  },
  {
   "cell_type": "code",
   "execution_count": 115,
   "id": "b9717d0e",
   "metadata": {},
   "outputs": [],
   "source": [
    "discrepancy_master_list = []\n",
    "\n",
    "# iterate through ae_subject_ids \n",
    "\n",
    "for subject in ae_subject_ids:\n",
    "    ae_subject_data_url = base_url + \"/\" + study_id+\"/\" + ae_domain_id + \"/subject/\" + str(subject)+ \"/list\"\n",
    "    ae_response_data2 = \"Make a request to the ae_subject_data_url\"\n",
    "    ae_response_value2 = \"convert the response to json using json.loads function \"\n",
    "    ae_subject_data = \"Fetch data from 'data' field in the response\"\n",
    "    \n",
    "    cm_subject_data_url = base_url + \"/\" + study_id+\"/\" + cm_domain_id + \"/subject/\" + str(subject)+ \"/list\"\n",
    "    cm_response_data2 = \"Make a request to the cm_subject_data_url\"\n",
    "    cm_response_value2 = \"convert the response to json using json.loads function \"\n",
    "    cm_subject_data = \"Fetch data from 'data' field in the response\"\n",
    "    \n",
    "    \n",
    "    discrepancy_list = type1_check(ae_subject_data,cm_subject_data)\n",
    "    #check whether discrepancy list is not empty then add it to discrepancy_master_list\n",
    "\n",
    "    discrepancy_list = type2_check(ae_subject_data,cm_subject_data)\n",
    "    #check whether discrepancy list is not empty then add it to discrepancy_master_list\n",
    "\n",
    "    discrepancy_list = type3_check(ae_subject_data)\n",
    "    #check whether discrepancy list is not empty then add it to discrepancy_master_list\n",
    "    \n",
    "    discrepancy_list = type4_check(cm_subject_data)\n",
    "    #check whether discrepancy list is not empty then add it to discrepancy_master_list\n",
    "\n",
    "\n",
    "\n",
    "# To submit discrepancies    \n",
    "submission_url = base_url + study_id\n",
    "email_address = \"your email address\"\n",
    "\n",
    "# iterate through every discrepancy in discrepancy_master_list\n",
    "\n",
    "for discrepancy in discrepancy_master_list:\n",
    "    discrepancy[\"email_address\"] = email_address\n",
    "    try:\n",
    "        r = requests.post(submission_url,data=discrepancy)\n",
    "    except:\n",
    "        sys.exit(\"Unable to submit discrepancy\")\n",
    "\n",
    "    \n",
    "\n"
   ]
  },
  {
   "cell_type": "code",
   "execution_count": null,
   "id": "76c8bb12",
   "metadata": {},
   "outputs": [],
   "source": [
    "# Patient and row for which Medication is given prior to Adverse Event\n",
    "# Function will get data at subject_id level \n",
    "# Identify discrepancy and return discrepancy_list as a list \n",
    "\n",
    "def type1_check(ae_subject_data,cm_subject_data):\n",
    "    discrepancy_list = []\n",
    "    \n",
    "\n",
    "    #Iterate through cm_subject_data\n",
    "    for cm_row in cm_subject_data:\n",
    "        \n",
    "        #fetch cmaeno, cmstdat,cmendat, cmtrt from cm_subject_data \n",
    "        \n",
    "        #Iterate through ae_subject_data\n",
    "        for ae_row in ae_subject_data:\n",
    "            \n",
    "            #fetch aespid, aestdat, aeendat, aeterm from ae_subject_data\n",
    "            \n",
    "            #Check whether aespid and cm_ae_no are equal\n",
    "                #Check whether cmstdat is lesser than aestdat\n",
    "                    #For the records satisfying condition prepare payload\n",
    "                    payload={}\n",
    "                    payload['formname'] = \"Fetch formname from cmrow\"\n",
    "                    payload['formid'] = \"Fetch formid from cmrow\"\n",
    "                    payload['formidx']= \"Fetch formidx from cmrow\"\n",
    "                    payload['type'] = 'TYPE1'\n",
    "                    payload['subjectid'] = \"Fetch subjid from cmrow\"\n",
    "                    discrepancy_list.append(payload)\n",
    "            \n",
    "    return discrepancy_list\n",
    "            "
   ]
  },
  {
   "cell_type": "code",
   "execution_count": null,
   "id": "1e40523e",
   "metadata": {},
   "outputs": [],
   "source": [
    "#Type 2 check : Patients and rows for which days Medications are given and Adverse Event occur don't match\n",
    "\n",
    "# Patients and rows for which days Medications are given and Adverse Event occur don't match\n",
    "# Function will get data at subject_id level \n",
    "# Identify discrepancy and return discrepancy_list as a list \n",
    "\n",
    "def type2_check(ae_subject_data,cm_subject_data):\n",
    "    discrepancy_list = []\n",
    "    \n",
    "\n",
    "    #Iterate through cm_subject_data\n",
    "    for cm_row in cm_subject_data:\n",
    "        \n",
    "        #fetch cmaeno, cmstdat,cmendat, cmtrt from cm_subject_data \n",
    "        \n",
    "        #Iterate through ae_subject_data\n",
    "        for ae_row in ae_subject_data:\n",
    "            \n",
    "            #fetch aespid, aestdat, aeendat, aeterm from ae_subject_data\n",
    "            \n",
    "            #Check whether aespid and cm_ae_no are equal\n",
    "                #Check whether aeendat is lesser than cmstdat\n",
    "                    #For the records satisfying condition prepare payload\n",
    "                    payload={}\n",
    "                    payload['formname'] = \"Fetch formname from cmrow\"\n",
    "                    payload['formid'] = \"Fetch formid from cmrow\"\n",
    "                    payload['formidx']= \"Fetch formidx from cmrow\"\n",
    "                    payload['type'] = 'TYPE2'\n",
    "                    payload['subjectid'] = \"Fetch subjid from cmrow\"\n",
    "                    discrepancy_list.append(payload)\n",
    "            \n",
    "    return discrepancy_list\n",
    "            "
   ]
  },
  {
   "cell_type": "code",
   "execution_count": null,
   "id": "45e82ad5",
   "metadata": {},
   "outputs": [],
   "source": [
    "# Write a method to calculate the dates between two given dates \n",
    "# Return a list of dates in between two given dates\n",
    "# for e.g. 01/01/2021 and 01/05/2021 are the two dates. Function should return \n",
    "# 01/01/2021,01/02/2021,01/03/2021,01/04/2021,01/05/2021\n",
    "\n",
    "def func_inbetween_dates(start_date,end_date):\n",
    "\n",
    "    inbetween_dates=[]\n",
    "\n",
    "\n",
    "    return inbetween_dates"
   ]
  },
  {
   "cell_type": "code",
   "execution_count": null,
   "id": "160fef60",
   "metadata": {},
   "outputs": [],
   "source": [
    "#Type 3 check : Duplicate Adverse events are entered or Adverse Events overlap. \n",
    "\n",
    "def type3_check(ae_subject_data):\n",
    "    discrepancy_list = []\n",
    "    \n",
    "    #Iterate through ae_subject_data\n",
    "    \n",
    "    for ae_row in ae_subject_data:\n",
    "        \n",
    "        #fetch aespid,aestdat,aeendat,aeterm \n",
    "        #call func_inbetween_dates method and get the list of dates in between aestdat,aeendat\n",
    "        \n",
    "        inbetween_dates = \"call func_inbetween_dates method and get the list of dates in between aestdat,aeendat\"\n",
    "\n",
    "        \n",
    "        #Nested for loop on ae_subject_data \n",
    "        for ae_row1 in ae_subject_data:\n",
    "            \n",
    "            #fetch aespid,aestdat,aeendat,aeterm and assign it to different variables \n",
    "            # Check to make sure that you are not looking at the same row using aespid check.\n",
    "            # Check to make sure aeterm between loop1 and loop2 are matching.\n",
    "            # check to see whether aestdat from loop2 is in inbetween_dates or aeendat from loop2 is in inbetween_dates\n",
    "                payload={}\n",
    "                payload['formname'] = \"Fetch formname from aerow\"\n",
    "                payload['formid'] = \"Fetch formid from aerow\"\n",
    "                payload['formidx']= \"Fetch formidx from aerow\"\n",
    "                payload['type'] = 'TYPE3'\n",
    "                payload['subjectid'] = \"Fetch subjid from aerow\"\n",
    "                discrepancy_list.append(payload)\n",
    "              \n",
    "                        \n",
    "    return discrepancy_list"
   ]
  },
  {
   "cell_type": "code",
   "execution_count": null,
   "id": "c7381a87",
   "metadata": {},
   "outputs": [],
   "source": [
    "#Type 4 check : Duplicate Concomitant Medications or overlap. \n",
    "\n",
    "def type4_check(cm_subject_data):\n",
    "    \n",
    "    discrepancy_list = []\n",
    "    \n",
    "    #Iterate through cm_subject_data\n",
    "    \n",
    "    for cm_row in cm_subject_data:\n",
    "        \n",
    "        #fetch cmaeno,cmstdat,cmendat,cmtrt \n",
    "        #call func_inbetween_dates method and get the list of dates in between aestdat,aeendat\n",
    "        \n",
    "        inbetween_dates = \"call func_inbetween_dates method and get the list of dates in between cmstdat,cmendat\"\n",
    "\n",
    "        #Nested for loop on cm_subject_data\n",
    "        \n",
    "        for cm_row1 in cm_subject_data:\n",
    "        \n",
    "            #fetch cmaeno,cmstdat,cmendat,cmtrt  and assign it to different variables \n",
    "            # Check to make sure that you are not looking at the same row using cmaeno check\n",
    "            # Check to make sure cmtrt between loop1 and loop2 are matching.\n",
    "            # check to see whether cmstdat from loop2 is in inbetween_dates or cmendat from loop2 is in inbetween_dates\n",
    "                payload ={}\n",
    "                payload['formname'] = cm_row['formname']\n",
    "                payload['formid'] = cm_row['formid']\n",
    "                payload['formidx']= cm_row['formidx']\n",
    "                payload['type'] = 'TYPE4'\n",
    "                payload['subjectid'] = cm_row['subjid']\n",
    "                discrepancy_list.append(payload)\n",
    "\n",
    "    return discrepancy_list"
   ]
  },
  {
   "cell_type": "code",
   "execution_count": null,
   "id": "e3422543",
   "metadata": {},
   "outputs": [],
   "source": []
  }
 ],
 "metadata": {
  "kernelspec": {
   "display_name": "Python 3",
   "language": "python",
   "name": "python3"
  },
  "language_info": {
   "codemirror_mode": {
    "name": "ipython",
    "version": 3
   },
   "file_extension": ".py",
   "mimetype": "text/x-python",
   "name": "python",
   "nbconvert_exporter": "python",
   "pygments_lexer": "ipython3",
   "version": "3.6.9"
  }
 },
 "nbformat": 4,
 "nbformat_minor": 5
}
